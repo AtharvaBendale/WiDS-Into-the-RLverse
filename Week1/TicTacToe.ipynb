{
 "cells": [
  {
   "cell_type": "markdown",
   "metadata": {},
   "source": [
    "## Tic-Tac-Toe Simulation\n",
    "In this assignment you have to construct a python class \"TicTacToe\" which simulates the game of Tic-Tac-Toe, this will further be used as an enviroment to solve for you in next week.\n",
    "\n",
    "You may add arguments to given functions as per your need and also additional helper functions (whose name should start with \"_\", convention for private functions), but only the initially given functions can be called by any user. No additional imports are allowed. The game always starts with X's turn."
   ]
  },
  {
   "cell_type": "code",
   "execution_count": null,
   "metadata": {},
   "outputs": [],
   "source": [
    "class TicTacToe:\n",
    "    def __init__(self):\n",
    "        pass\n",
    "    def act():\n",
    "        pass\n",
    "    def reset():\n",
    "        pass\n"
   ]
  }
 ],
 "metadata": {
  "language_info": {
   "name": "python"
  }
 },
 "nbformat": 4,
 "nbformat_minor": 2
}
