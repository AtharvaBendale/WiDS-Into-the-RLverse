{
 "cells": [
  {
   "cell_type": "markdown",
   "metadata": {},
   "source": [
    "## Multi Armed Bandits Simulation\n",
    "In this assignment you will simulate multi-armed bandits with different behaviours using numpy, there are a total of 3 different behaviours:\n",
    "- One with probabilistic behaviour, which gives different outputs with a probability\n",
    "- One which gives you a noisy reward, for each input\n",
    "\n",
    "Note : All the rewards (or mean rewards) should be randomly generated and should not be hardcoded"
   ]
  },
  {
   "cell_type": "code",
   "execution_count": 1,
   "metadata": {},
   "outputs": [],
   "source": [
    "# Import necessary libraries here\n"
   ]
  },
  {
   "cell_type": "code",
   "execution_count": 4,
   "metadata": {},
   "outputs": [],
   "source": [
    "class MAB_probabilistic:\n",
    "    def __init__(self, num_action : int = 10) -> None:\n",
    "        # Code Here #\n",
    "        pass\n",
    "    def act(self, action : int) -> float:\n",
    "        # Code Here #\n",
    "        pass"
   ]
  },
  {
   "cell_type": "code",
   "execution_count": null,
   "metadata": {},
   "outputs": [],
   "source": [
    "class MAB_noisy:\n",
    "    def __init__(self, noise_variance : float, num_action : int = 10) -> None:\n",
    "        # Code Here #\n",
    "        pass\n",
    "    def act(self, action : int) -> float:\n",
    "        # Code Here #\n",
    "        pass"
   ]
  },
  {
   "cell_type": "markdown",
   "metadata": {},
   "source": [
    "Initialize MAB_probabilistic with number of actions 5.\n",
    "Perform an action for a fixed number of time and plot the average of first n rewards against n. Make such graphs for all 5 actions in single plot."
   ]
  },
  {
   "cell_type": "code",
   "execution_count": null,
   "metadata": {},
   "outputs": [],
   "source": []
  },
  {
   "cell_type": "markdown",
   "metadata": {},
   "source": [
    "Initialize MAB_noisy with number of actions 5.\n",
    "Perform an action for a fixed number of time and plot the nth rewards against n. Make such graphs for all 5 actions in single plot."
   ]
  },
  {
   "cell_type": "code",
   "execution_count": null,
   "metadata": {},
   "outputs": [],
   "source": []
  },
  {
   "cell_type": "markdown",
   "metadata": {},
   "source": [
    "Optional : Initialize any one of the above classes and find the optimal action, you can only use act() function and cannot access any class variables. Please do not search for methods on google or anywhere else, this is just a simple exercise for your own thinking."
   ]
  },
  {
   "cell_type": "code",
   "execution_count": null,
   "metadata": {},
   "outputs": [],
   "source": []
  }
 ],
 "metadata": {
  "kernelspec": {
   "display_name": "Python 3",
   "language": "python",
   "name": "python3"
  },
  "language_info": {
   "codemirror_mode": {
    "name": "ipython",
    "version": 3
   },
   "file_extension": ".py",
   "mimetype": "text/x-python",
   "name": "python",
   "nbconvert_exporter": "python",
   "pygments_lexer": "ipython3",
   "version": "3.10.12"
  }
 },
 "nbformat": 4,
 "nbformat_minor": 2
}
