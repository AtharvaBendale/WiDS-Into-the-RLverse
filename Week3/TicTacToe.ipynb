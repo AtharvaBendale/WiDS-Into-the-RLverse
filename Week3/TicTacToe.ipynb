{
 "cells": [
  {
   "cell_type": "markdown",
   "metadata": {},
   "source": [
    "## Solving Tic-Tac-Toe using TD(λ)\n",
    "In this assignment you will build an RL agent capable of playing Tic-Tac-Toe using TD(λ) algorithm and the environment simulated by you in first week.\n",
    "\n",
    "First of all copy the environment simulated by you from the first week below.\n",
    "- Note that you should also return the state of the board each time you call act function, ideally the state should be stored in a numpy array for faster implementation\n",
    "- The only input the function can take is via its own arguments and not input() function.\n",
    "\n",
    "The ideal TicTacToe environment:\n",
    "- Will take N, the size of board as an argument in its constructor.\n",
    "- Will have act function taking a single argument representing the action taken (preferably int type) and return the state of board (preferably numpy array), reward signal (float) and bool value \"done\" which is true if the game is over else false.\n",
    "- Will have reset function which resets the board and starts a new game.\n",
    "- Will give reward signal as 1 if 'X' won and -1 if 'O' won (or vice-versa) and 0 if its a draw.\n",
    "- Will take alternate calls of act function as the moves of one player.\n",
    "\n",
    "For example:\n",
    "```html\n",
    "env.reset()\n",
    "Returns ==> (array([[0., 0., 0.],[0., 0., 0.],[0., 0., 0.]]), 0, False)\n",
    "                | | | |\n",
    "        Board:  | | | |\n",
    "                | | | |\n",
    "\n",
    "env.act(4)\n",
    "Returns ==> (array([[0., 0., 0.],[0., 1.0, 0.],[0., 0., 0.]]), 0, False)\n",
    "                | | | |\n",
    "        Board:  | |X| |\n",
    "                | | | |\n",
    "\n",
    "env.act(0)\n",
    "Returns ==> (array([[-1.0, 0., 0.],[0., 1.0, 0.],[0., 0., 0.]]), 0, False)\n",
    "                |O| | |\n",
    "        Board:  | |X| |\n",
    "                | | | |\n",
    "\n",
    "env.act(7)\n",
    "Returns ==> (array([[-1.0, 0., 0.],[0., 1.0, 0.],[0., 1.0, 0.]]), 0, False)\n",
    "                |O| | |\n",
    "        Board:  | |X| |\n",
    "                | |X| |\n",
    "\n",
    "env.act(6)\n",
    "Returns ==> (array([[-1.0, 0., 0.],[0., 1.0, 0.],[-1.0, 1.0, 0.]]), 0, False)\n",
    "                |O| | |\n",
    "        Board:  | |X| |\n",
    "                |O|X| |\n",
    "\n",
    "env.act(2)\n",
    "Returns ==> (array([[-1.0, 1.0, 0.],[0., 1.0, 0.],[-1.0, 1.0, 0.]]), 1, True)\n",
    "                |O|X| |\n",
    "        Board:  | |X| |\n",
    "                |O|X| |\n",
    "\n",
    "\n",
    "```\n",
    "<hr>",
    "\n",
    "Note : You can change your TicTacToe environment code before using it here\n"
   ]
  },
  {
   "cell_type": "code",
   "execution_count": 1,
   "metadata": {},
   "outputs": [],
   "source": [
    "# Import any necessary libraries here\n",
    "import numpy as np"
   ]
  },
  {
   "cell_type": "markdown",
   "metadata": {},
   "source": [
    "Your TicTacToe environment class comes here"
   ]
  },
  {
   "cell_type": "code",
   "execution_count": 1,
   "metadata": {},
   "outputs": [],
   "source": [
    "class TicTacToe:\n",
    "    def __init__(self):\n",
    "        pass\n",
    "    # Given below is the preferable structure of act function\n",
    "    def act(action : int) -> tuple:     # Returns tuple of types (np.ndarray, int, bool)\n",
    "        pass\n",
    "    def reset():\n",
    "        pass"
   ]
  },
  {
   "cell_type": "markdown",
   "metadata": {},
   "source": [
    "Then comes the agent class which\n",
    "- Uses TD(λ) algorithm to find the optimal policies for each state\n",
    "- Stores the calculated optimal policies as a .npy file for later use\n",
    "- Calculates the average return of the itself against a random player (makes random moves on its chance) periodically during training and plot it (for example if total training iterations is 10000, then calculate average return after each 500 steps, also for average return you should calculate return atleast 5 times and then take average)\n",
    "- You can make additional functions\n",
    "\n",
    "You can store all the encountered states in a numpy array (which will have 3 dims) and then store corresponding values for that particulare state in another array (will have 1 dims) and then you can store all these arrays in a .npy file for future use, so that you don't have to train the model each time you want to play TicTacToe"
   ]
  },
  {
   "cell_type": "code",
   "execution_count": null,
   "metadata": {},
   "outputs": [],
   "source": [
    "# Both the constructors and train() function can have any arguments you need\n",
    "class TicTacToeAgent:\n",
    "    def __init__(self) -> None:\n",
    "        pass\n",
    "    def train():\n",
    "        pass"
   ]
  },
  {
   "cell_type": "markdown",
   "metadata": {},
   "source": [
    "Now for evaluation purposes and for your self checking the code block below after running should:\n",
    "- Initialize the agent and call the train function which trains the agent\n",
    "- Load the stored state value data\n",
    "- Start a single player game of TicTacToe which takes input from the user for moves according to the convention given below, where the trained Q values play as computer"
   ]
  },
  {
   "cell_type": "code",
   "execution_count": null,
   "metadata": {},
   "outputs": [],
   "source": [
    "'''\n",
    "You will be asked to enter number corresponding to the boards where you want to make your move, for example in 1 3x3 TicTacToe:\n",
    "1 | 2 | 3\n",
    "4 | 5 | 6\n",
    "7 | 8 | 9\n",
    "The model should train a 3x3 TicTacToe by default, you can definitely modify the values(of N, number of iterations etc) for your convenience but training model for bigger N might take lot of time\n",
    "'''\n",
    "\n",
    "# Code Here"
   ]
  }
 ],
 "metadata": {
  "kernelspec": {
   "display_name": "Python 3",
   "language": "python",
   "name": "python3"
  },
  "language_info": {
   "codemirror_mode": {
    "name": "ipython",
    "version": 3
   },
   "file_extension": ".py",
   "mimetype": "text/x-python",
   "name": "python",
   "nbconvert_exporter": "python",
   "pygments_lexer": "ipython3",
   "version": "3.10.12"
  }
 },
 "nbformat": 4,
 "nbformat_minor": 2
}
